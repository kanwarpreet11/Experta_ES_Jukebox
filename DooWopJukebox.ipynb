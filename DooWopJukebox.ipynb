{
 "cells": [
  {
   "cell_type": "markdown",
   "metadata": {},
   "source": [
    "This DooWop Jukebox Expert System works as a Doo Wop artist recommender based on selection by user on various pre-define percepts, namely - Singer Type (Band or Individual), Tempo (Fast or Slow) and Gender (Male or Female).\n",
    "\n",
    "Ps. Doo Wop is a genre of music interchangably (because of an overlap) used with other genre including Rhythm and Blues, Rock and Roll, Rockabilly etc. This is a simple ES recommender that based on user choices recommends a suitable Doo Wop band/individual singer to listen too. Since the singers/bands recommended here might have songs both fast and slow, the developer has taken discretion to classify them based on personal choice or more generic style of these artists. This ES can be further developed to recommend random varied choices within each set of selections as well, for ex. for Individual, Fast and Male, the ES might recommend Little Richard, Jerry Lee Lewis, Chuck Berry etc randomly each time these selections are made. Further, using a feedback loop from user, recommender can be made to learn and provide recommendations based on a users preferences, which opens up scope for ML based AI."
   ]
  },
  {
   "cell_type": "code",
   "execution_count": null,
   "metadata": {},
   "outputs": [],
   "source": [
    "#!pip install experta"
   ]
  },
  {
   "cell_type": "code",
   "execution_count": null,
   "metadata": {},
   "outputs": [],
   "source": [
    "from random import choice\n",
    "from experta import *\n",
    "\n",
    "class DooWop(Fact):\n",
    "    \"\"\"Info about the Doo Wop Music.\"\"\"\n",
    "    pass\n",
    "\n",
    "\n",
    "# defining the KnowledgeEngine for the ES, as DooWopJukebox\n",
    "class DooWopJukebox(KnowledgeEngine):\n",
    "    singer=\"Wrong Input choice, please try agian. Input from the given choices.\"\n",
    "    @Rule(DooWop(singer_type=\"Band\",tempo ='Fast', gender='Male'))\n",
    "    def listen_teenagers(self):\n",
    "        self.singer=\" Listen to 'The Teenagers' \"\n",
    "    @Rule(DooWop(singer_type=\"Band\",tempo ='Slow', gender='Male'))\n",
    "    def listen_drifters(self):\n",
    "        self.singer=\" Listen to 'The Drifters' \"\n",
    "    @Rule(DooWop(singer_type=\"Band\",tempo ='Slow', gender='Female'))\n",
    "    def listen_shirelles(self):\n",
    "        self.singer=\" Listen to 'The Shirelles' \"\n",
    "    @Rule(DooWop(singer_type=\"Band\",tempo ='Fast', gender='Female'))\n",
    "    def listen_chiffons(self):\n",
    "        self.singer=\" Listen to 'The Chiffons' \"\n",
    "    @Rule(DooWop(singer_type=\"Individual\",tempo ='Fast', gender='Male'))\n",
    "    def listen_littlerichard(self):\n",
    "        self.singer=\" Listen to 'Little Richard' \"\n",
    "    @Rule(DooWop(singer_type=\"Individual\",tempo ='Slow', gender='Male'))\n",
    "    def listen_buddyholly(self):\n",
    "        self.singer=\" Listen to 'Buddy Holly' \"\n",
    "    @Rule(DooWop(singer_type=\"Individual\",tempo ='Slow', gender='Female'))\n",
    "    def listen_littleeva(self):\n",
    "        self.singer=\" Listen to 'Little Eva' \"\n",
    "    @Rule(DooWop(singer_type=\"Individual\",tempo ='Fast', gender='Female'))\n",
    "    def listen_deedeesharp(self):\n",
    "        self.singer=\" Listen to 'Dee Dee Sharp' \"\n",
    "\n",
    "\n",
    "# ask for input choice from user on percept values defined\n",
    "singer_type = input(\"Singer Type? input Band or Individual \").title()\n",
    "tempo = input(\"Tempo ? input Fast or Slow \").title()\n",
    "singer_gender =  input(\"Singer gender ? input Male or Female \").title()\n",
    "\n",
    "doowop= DooWop(singer_type=singer_type, tempo=tempo, gender=singer_gender)\n",
    "\n",
    "engine = DooWopJukebox()    # instantiates the class\n",
    "engine.reset()              # resets to default values (if any)\n",
    "engine.declare(doowop)\n",
    "engine.run()\n",
    "\n",
    "engine.singer"
   ]
  }
 ],
 "metadata": {
  "kernelspec": {
   "display_name": "Python 3",
   "language": "python",
   "name": "python3"
  },
  "language_info": {
   "codemirror_mode": {
    "name": "ipython",
    "version": 3
   },
   "file_extension": ".py",
   "mimetype": "text/x-python",
   "name": "python",
   "nbconvert_exporter": "python",
   "pygments_lexer": "ipython3",
   "version": "3.7.6"
  }
 },
 "nbformat": 4,
 "nbformat_minor": 4
}
